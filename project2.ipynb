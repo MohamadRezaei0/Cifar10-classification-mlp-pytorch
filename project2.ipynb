{
 "cells": [
  {
   "cell_type": "code",
   "execution_count": 7,
   "source": [
    "import torch\n",
    "import torch.nn as nn\n",
    "from torch.utils.data import DataLoader\n",
    "import torchvision.transforms as transforms\n",
    "\n",
    "import numpy as np\n",
    "import pandas as pd\n",
    "import matplotlib.pyplot as plt\n",
    "\n",
    "from model import Net\n",
    "from dataset import Cifar10"
   ],
   "outputs": [],
   "metadata": {}
  },
  {
   "cell_type": "code",
   "execution_count": 4,
   "source": [
    "transform = transforms.Compose(\n",
    "    [\n",
    "        transforms.ToTensor(),\n",
    "        transforms.Normalize((0.5, 0.5, 0.5), (0.5, 0.5, 0.5)),\n",
    "    ])\n",
    "\n",
    "DATASET_PATH = \"cifar-10-batches-py/data_batch_1\"\n",
    "traindata = Cifar10(DATASET_PATH, transform)\n",
    "trainloader = DataLoader(traindata, batch_size=5, shuffle=True, num_workers=2)\n",
    "\n",
    "DATASET_PATH = \"cifar-10-batches-py/data_batch_1\"\n",
    "testdata = Cifar10(DATASET_PATH, transform)\n",
    "testloader = DataLoader(testdata, batch_size=5, shuffle=True, num_workers=2)"
   ],
   "outputs": [],
   "metadata": {}
  },
  {
   "cell_type": "code",
   "execution_count": 5,
   "source": [
    "class_count = {}\n",
    "for sample in traindata:\n",
    "    label = traindata.classes[sample[1]]\n",
    "    if label not in class_count:\n",
    "        class_count[label] = 0\n",
    "    class_count[label] += 1\n",
    "class_count"
   ],
   "outputs": [
    {
     "output_type": "execute_result",
     "data": {
      "text/plain": [
       "{'frog': 1030,\n",
       " 'truck': 981,\n",
       " 'deer': 999,\n",
       " 'automobile': 974,\n",
       " 'bird': 1032,\n",
       " 'horse': 1001,\n",
       " 'ship': 1025,\n",
       " 'cat': 1016,\n",
       " 'dog': 937,\n",
       " 'airplane': 1005}"
      ]
     },
     "metadata": {},
     "execution_count": 5
    }
   ],
   "metadata": {}
  },
  {
   "cell_type": "code",
   "execution_count": 6,
   "source": [
    "cuda = torch.cuda.is_available()\n",
    "cuda"
   ],
   "outputs": [
    {
     "output_type": "execute_result",
     "data": {
      "text/plain": [
       "True"
      ]
     },
     "metadata": {},
     "execution_count": 6
    }
   ],
   "metadata": {}
  },
  {
   "cell_type": "code",
   "execution_count": 8,
   "source": [
    "device = torch.device('cuda' if cuda else 'cpu')\n",
    "device"
   ],
   "outputs": [
    {
     "output_type": "execute_result",
     "data": {
      "text/plain": [
       "device(type='cuda')"
      ]
     },
     "metadata": {},
     "execution_count": 8
    }
   ],
   "metadata": {}
  },
  {
   "cell_type": "code",
   "execution_count": 9,
   "source": [
    "import torch.optim as optim\n",
    "\n",
    "\n",
    "net = Net()\n",
    "\n",
    "criterion = nn.CrossEntropyLoss()\n",
    "\n",
    "optimizer = optim.SGD(net.parameters(), lr=0.001, momentum=0.9)\n",
    "net.to(device)"
   ],
   "outputs": [
    {
     "output_type": "execute_result",
     "data": {
      "text/plain": [
       "Net(\n",
       "  (conv1): Conv2d(3, 6, kernel_size=(5, 5), stride=(1, 1))\n",
       "  (pool): MaxPool2d(kernel_size=2, stride=2, padding=0, dilation=1, ceil_mode=False)\n",
       "  (conv2): Conv2d(6, 16, kernel_size=(5, 5), stride=(1, 1))\n",
       "  (fc1): Linear(in_features=400, out_features=120, bias=True)\n",
       "  (fc2): Linear(in_features=120, out_features=84, bias=True)\n",
       "  (fc3): Linear(in_features=84, out_features=10, bias=True)\n",
       ")"
      ]
     },
     "metadata": {},
     "execution_count": 9
    }
   ],
   "metadata": {}
  },
  {
   "cell_type": "code",
   "execution_count": 10,
   "source": [
    "net.train(trainloader, optimizer, criterion, epochs=38)"
   ],
   "outputs": [
    {
     "output_type": "stream",
     "name": "stdout",
     "text": [
      "[1,  2000] loss: 2.215\n",
      "[2,  2000] loss: 1.884\n",
      "[3,  2000] loss: 1.636\n",
      "[4,  2000] loss: 1.500\n",
      "[5,  2000] loss: 1.402\n",
      "[6,  2000] loss: 1.327\n",
      "[7,  2000] loss: 1.253\n",
      "[8,  2000] loss: 1.187\n",
      "[9,  2000] loss: 1.111\n",
      "[10,  2000] loss: 1.046\n",
      "[11,  2000] loss: 0.967\n",
      "[12,  2000] loss: 0.905\n",
      "[13,  2000] loss: 0.822\n",
      "[14,  2000] loss: 0.756\n",
      "[15,  2000] loss: 0.696\n",
      "[16,  2000] loss: 0.642\n",
      "[17,  2000] loss: 0.574\n",
      "[18,  2000] loss: 0.531\n",
      "[19,  2000] loss: 0.465\n",
      "[20,  2000] loss: 0.422\n",
      "[21,  2000] loss: 0.402\n",
      "[22,  2000] loss: 0.372\n",
      "[23,  2000] loss: 0.352\n",
      "[24,  2000] loss: 0.335\n",
      "[25,  2000] loss: 0.318\n",
      "[26,  2000] loss: 0.296\n",
      "[27,  2000] loss: 0.268\n",
      "[28,  2000] loss: 0.233\n",
      "[29,  2000] loss: 0.232\n",
      "[30,  2000] loss: 0.232\n",
      "[31,  2000] loss: 0.224\n",
      "[32,  2000] loss: 0.230\n",
      "[33,  2000] loss: 0.218\n",
      "[34,  2000] loss: 0.199\n",
      "[35,  2000] loss: 0.211\n",
      "[36,  2000] loss: 0.191\n",
      "[37,  2000] loss: 0.152\n",
      "[38,  2000] loss: 0.165\n",
      "Finished Training\n"
     ]
    }
   ],
   "metadata": {}
  },
  {
   "cell_type": "code",
   "execution_count": 11,
   "source": [
    "net.score(testloader)"
   ],
   "outputs": [
    {
     "output_type": "stream",
     "name": "stdout",
     "text": [
      "Accuracy of the network on the 10000 test images: 95 %\n"
     ]
    }
   ],
   "metadata": {}
  },
  {
   "cell_type": "code",
   "execution_count": null,
   "source": [],
   "outputs": [],
   "metadata": {}
  }
 ],
 "metadata": {
  "orig_nbformat": 4,
  "language_info": {
   "name": "python",
   "version": "3.8.5",
   "mimetype": "text/x-python",
   "codemirror_mode": {
    "name": "ipython",
    "version": 3
   },
   "pygments_lexer": "ipython3",
   "nbconvert_exporter": "python",
   "file_extension": ".py"
  },
  "kernelspec": {
   "name": "python3",
   "display_name": "Python 3.8.5 64-bit ('base': conda)"
  },
  "interpreter": {
   "hash": "9fdd795d4f4970461231e8a078e4132ca4d1cd6e8bb9a2b128c86137cc427ec8"
  }
 },
 "nbformat": 4,
 "nbformat_minor": 2
}