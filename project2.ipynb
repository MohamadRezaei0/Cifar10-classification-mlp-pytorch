{
 "cells": [
  {
   "cell_type": "code",
   "execution_count": 1,
   "source": [
    "import torch # for cuda usage\n",
    "from torch.optim import SGD # optimizer\n",
    "from torch.nn import CrossEntropyLoss # loss function\n",
    "from torch.utils.data import DataLoader # Load data\n",
    "import torchvision.transforms as transforms # normalize image\n",
    "from dataset import Cifar10, concatenate, class_count # custom dataset and methods\n",
    "import matplotlib.pyplot as plt\n",
    "from model import Net\n",
    "import glob\n"
   ],
   "outputs": [],
   "metadata": {}
  },
  {
   "cell_type": "code",
   "execution_count": 2,
   "source": [
    "transform = transforms.Compose(\n",
    "    [\n",
    "        transforms.ToTensor(),\n",
    "        transforms.Normalize((0.5, 0.5, 0.5), (0.5, 0.5, 0.5)),\n",
    "    ])"
   ],
   "outputs": [],
   "metadata": {}
  },
  {
   "cell_type": "code",
   "execution_count": 10,
   "source": [
    "DATASET_PATH = \"cifar-10-batches-py/data_batch_1\"\n",
    "tuningdata = Cifar10(DATASET_PATH, transform)\n",
    "tuningloader = DataLoader(tuningdata, batch_size=5, shuffle=True, num_workers=2)\n",
    "\n",
    "DATASET_PATH = \"cifar-10-batches-py/test_batch\"\n",
    "testdata = Cifar10(DATASET_PATH, transform)\n",
    "testloader = DataLoader(testdata, batch_size=5, shuffle=True, num_workers=2)"
   ],
   "outputs": [],
   "metadata": {}
  },
  {
   "cell_type": "code",
   "execution_count": 3,
   "source": [
    "cuda = torch.cuda.is_available()\n",
    "cuda"
   ],
   "outputs": [
    {
     "output_type": "execute_result",
     "data": {
      "text/plain": [
       "True"
      ]
     },
     "metadata": {},
     "execution_count": 3
    }
   ],
   "metadata": {}
  },
  {
   "cell_type": "code",
   "execution_count": 4,
   "source": [
    "device = torch.device('cuda' if cuda else 'cpu')\n",
    "device"
   ],
   "outputs": [
    {
     "output_type": "execute_result",
     "data": {
      "text/plain": [
       "device(type='cuda')"
      ]
     },
     "metadata": {},
     "execution_count": 4
    }
   ],
   "metadata": {}
  },
  {
   "cell_type": "code",
   "execution_count": 11,
   "source": [
    "epochs = 30\n",
    "tuning_model = Net()\n",
    "criterion = CrossEntropyLoss()\n",
    "optimizer = SGD(tuning_model.parameters(), lr=0.001, momentum=0.9)\n",
    "if(cuda):\n",
    "    tuning_model.to(device)"
   ],
   "outputs": [],
   "metadata": {}
  },
  {
   "cell_type": "code",
   "execution_count": 12,
   "source": [
    "hist = tuning_model.train(tuningloader, optimizer, criterion, epochs=epochs)"
   ],
   "outputs": [
    {
     "output_type": "stream",
     "name": "stdout",
     "text": [
      "[1,  2000] loss: 2.250\n",
      "[2,  2000] loss: 1.850\n",
      "[3,  2000] loss: 1.618\n",
      "[4,  2000] loss: 1.514\n",
      "[5,  2000] loss: 1.431\n",
      "[6,  2000] loss: 1.350\n",
      "[7,  2000] loss: 1.277\n",
      "[8,  2000] loss: 1.203\n",
      "[9,  2000] loss: 1.140\n",
      "[10,  2000] loss: 1.062\n",
      "[11,  2000] loss: 1.006\n",
      "[12,  2000] loss: 0.921\n",
      "[13,  2000] loss: 0.841\n",
      "[14,  2000] loss: 0.779\n",
      "[15,  2000] loss: 0.723\n",
      "[16,  2000] loss: 0.644\n",
      "[17,  2000] loss: 0.572\n",
      "[18,  2000] loss: 0.538\n",
      "[19,  2000] loss: 0.489\n",
      "[20,  2000] loss: 0.443\n",
      "[21,  2000] loss: 0.401\n",
      "[22,  2000] loss: 0.387\n",
      "[23,  2000] loss: 0.353\n",
      "[24,  2000] loss: 0.338\n",
      "[25,  2000] loss: 0.320\n",
      "[26,  2000] loss: 0.325\n",
      "[27,  2000] loss: 0.262\n",
      "[28,  2000] loss: 0.257\n",
      "[29,  2000] loss: 0.295\n",
      "[30,  2000] loss: 0.241\n",
      "Finished Training\n"
     ]
    }
   ],
   "metadata": {}
  },
  {
   "cell_type": "code",
   "execution_count": 17,
   "source": [
    "plt.plot(range(1, 31), hist)\n",
    "plt.xlabel('Epochs')\n",
    "plt.ylabel('Cross Entropy Loss')\n",
    "plt.title(\"10,000 data training\")"
   ],
   "outputs": [
    {
     "output_type": "execute_result",
     "data": {
      "text/plain": [
       "Text(0.5, 1.0, '10,000 data training')"
      ]
     },
     "metadata": {},
     "execution_count": 17
    },
    {
     "output_type": "display_data",
     "data": {
      "text/plain": [
       "<Figure size 432x288 with 1 Axes>"
      ],
      "image/png": "[encoded data removed]"
     },
     "metadata": {
      "needs_background": "light"
     }
    }
   ],
   "metadata": {}
  },
  {
   "cell_type": "code",
   "execution_count": 14,
   "source": [
    "tuning_model.score(testloader)"
   ],
   "outputs": [
    {
     "output_type": "stream",
     "name": "stdout",
     "text": [
      "Accuracy of the network on the 10000 test images: 48 %\n"
     ]
    }
   ],
   "metadata": {}
  },
  {
   "cell_type": "code",
   "execution_count": 5,
   "source": [
    "# concatenate all batch data\n",
    "batches_list = []\n",
    "for batch_data in glob.glob(\"cifar-10-batches-py/data_batch_*\"):\n",
    "    batches_list.append(Cifar10(batch_data, transform))\n",
    "batches_list\n",
    "\n",
    "traindata = concatenate(batches_list)\n",
    "trainloader = DataLoader(traindata, batch_size=5, shuffle=True, num_workers=2)\n"
   ],
   "outputs": [],
   "metadata": {}
  },
  {
   "cell_type": "code",
   "execution_count": 6,
   "source": [
    "model = Net()\n",
    "criterion = CrossEntropyLoss()\n",
    "optimizer = SGD(model.parameters(), lr=0.001, momentum=0.9)\n",
    "if(cuda):\n",
    "    model.to(device)"
   ],
   "outputs": [],
   "metadata": {}
  },
  {
   "cell_type": "code",
   "execution_count": 7,
   "source": [
    "hist = model.train(trainloader, optimizer, criterion, epochs=38)"
   ],
   "outputs": [
    {
     "output_type": "stream",
     "name": "stdout",
     "text": [
      "[1, 10000] loss: 8.733\n",
      "[2, 10000] loss: 6.750\n",
      "[3, 10000] loss: 6.077\n",
      "[4, 10000] loss: 5.632\n",
      "[5, 10000] loss: 5.273\n",
      "[6, 10000] loss: 4.986\n",
      "[7, 10000] loss: 4.735\n",
      "[8, 10000] loss: 4.493\n",
      "[9, 10000] loss: 4.314\n",
      "[10, 10000] loss: 4.159\n",
      "[11, 10000] loss: 4.010\n",
      "[12, 10000] loss: 3.863\n",
      "[13, 10000] loss: 3.729\n",
      "[14, 10000] loss: 3.633\n",
      "[15, 10000] loss: 3.535\n",
      "[16, 10000] loss: 3.437\n",
      "[17, 10000] loss: 3.338\n",
      "[18, 10000] loss: 3.260\n",
      "[19, 10000] loss: 3.220\n",
      "[20, 10000] loss: 3.132\n",
      "[21, 10000] loss: 3.092\n",
      "[22, 10000] loss: 3.028\n",
      "[23, 10000] loss: 2.982\n",
      "[24, 10000] loss: 2.950\n",
      "[25, 10000] loss: 2.903\n",
      "[26, 10000] loss: 2.869\n",
      "[27, 10000] loss: 2.789\n",
      "[28, 10000] loss: 2.798\n",
      "[29, 10000] loss: 2.788\n",
      "[30, 10000] loss: 2.785\n",
      "[31, 10000] loss: 2.775\n",
      "[32, 10000] loss: 2.718\n",
      "[33, 10000] loss: 2.727\n",
      "[34, 10000] loss: 2.635\n",
      "[35, 10000] loss: 2.681\n",
      "[36, 10000] loss: 2.630\n",
      "[37, 10000] loss: 2.605\n",
      "[38, 10000] loss: 2.655\n",
      "Finished Training\n"
     ]
    }
   ],
   "metadata": {}
  },
  {
   "cell_type": "code",
   "execution_count": 8,
   "source": [
    "plt.plot(range(1, 39), hist)\n",
    "plt.xlabel('Epochs')\n",
    "plt.ylabel('Cross Entropy Loss')\n",
    "plt.title(\"50,000 data training\")"
   ],
   "outputs": [
    {
     "output_type": "execute_result",
     "data": {
      "text/plain": [
       "Text(0.5, 1.0, '50,000 data training')"
      ]
     },
     "metadata": {},
     "execution_count": 8
    },
    {
     "output_type": "display_data",
     "data": {
      "text/plain": [
       "<Figure size 432x288 with 1 Axes>"
      ],
      "image/png": "[encoded data removed]"
     },
     "metadata": {
      "needs_background": "light"
     }
    }
   ],
   "metadata": {}
  },
  {
   "cell_type": "code",
   "execution_count": 11,
   "source": [
    "model.score(testloader)"
   ],
   "outputs": [
    {
     "output_type": "stream",
     "name": "stdout",
     "text": [
      "Accuracy of the network on the 10000 test images: 58 %\n"
     ]
    }
   ],
   "metadata": {}
  }
 ],
 "metadata": {
  "orig_nbformat": 4,
  "language_info": {
   "name": "python",
   "version": "3.8.5",
   "mimetype": "text/x-python",
   "codemirror_mode": {
    "name": "ipython",
    "version": 3
   },
   "pygments_lexer": "ipython3",
   "nbconvert_exporter": "python",
   "file_extension": ".py"
  },
  "kernelspec": {
   "name": "python3",
   "display_name": "Python 3.8.5 64-bit ('base': conda)"
  },
  "interpreter": {
   "hash": "9fdd795d4f4970461231e8a078e4132ca4d1cd6e8bb9a2b128c86137cc427ec8"
  }
 },
 "nbformat": 4,
 "nbformat_minor": 2
}