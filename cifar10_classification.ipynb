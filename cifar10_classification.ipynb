{
 "cells": [
  {
   "cell_type": "code",
   "execution_count": 13,
   "metadata": {},
   "outputs": [],
   "source": [
    "import glob # to load data\n",
    "import numpy as np\n",
    "import matplotlib.pyplot as plt\n",
    "\n",
    "import torch\n",
    "from torch.optim import SGD, Adam # optimizer\n",
    "from torch.nn import CrossEntropyLoss # loss function\n",
    "from torch.utils.data import DataLoader # Load custom dataset\n",
    "import torchvision.transforms as transforms # normalize image\n",
    "\n",
    "\n",
    "import torch.nn as nn\n",
    "import torch.nn.functional as F\n",
    "# My Modules\n",
    "# from model import Net # custom mlp net\n",
    "# from dataset import Cifar10, concatenate, class_count, to_image_array # custom dataset and methods\n",
    "\n",
    "# metrics\n",
    "from sklearn.metrics import precision_recall_fscore_support as score\n",
    "from sklearn.metrics import confusion_matrix\n",
    "\n",
    "\n",
    "\n",
    "import pickle\n",
    "import copy\n",
    "from torch.utils.data import Dataset\n",
    "\n",
    "from tqdm import tqdm\n"
   ]
  },
  {
   "cell_type": "code",
   "execution_count": 4,
   "metadata": {},
   "outputs": [
    {
     "name": "stdout",
     "output_type": "stream",
     "text": [
      "device : cuda\n"
     ]
    }
   ],
   "source": [
    "# hyper parameters and configurations\n",
    "EPOCHS = 2\n",
    "MOMENTUM = 0.9\n",
    "BATCH_SIZE = 5\n",
    "LEARNING_RATE = 0.001\n",
    "\n",
    "device = torch.device('cuda' if torch.cuda.is_available() else 'cpu')\n",
    "print(\"device :\", device)\n"
   ]
  },
  {
   "cell_type": "code",
   "execution_count": 5,
   "metadata": {},
   "outputs": [],
   "source": [
    "def hist_plot(hist):\n",
    "    fig = plt.figure(121, figsize=(15, 5))\n",
    "    ax0 = fig.add_subplot(121)\n",
    "    ax0.plot(hist[0])\n",
    "    ax0.set_xlabel(\"Epochs\")\n",
    "    ax0.set_ylabel(\"Cross Entropy Loss\")\n",
    "\n",
    "    ax1 = fig.add_subplot(122)\n",
    "    ax1.plot(hist[1])\n",
    "    ax1.set_xlabel(\"Epochs\")\n",
    "    ax1.set_ylabel(\"Accuracy\")\n",
    "\n",
    "def batch_inverse_normalize(x, mean, std):\n",
    "    # represent mean and std to 1, C, 1, ... tensors for broadcasting\n",
    "    reshape_shape = [1, -1] + ([1] * (len(x.shape) - 2))\n",
    "    mean = torch.tensor(mean, device=x.device, dtype=x.dtype).reshape(*reshape_shape)\n",
    "    std = torch.tensor(std, device=x.device, dtype=x.dtype).reshape(*reshape_shape)\n",
    "    return x * std + mean\n",
    "\n",
    "def metrics(model):\n",
    "    classes = testdata.classes\n",
    "    y_pred, y_true = model.predict(testloader)\n",
    "    precision, recall, fscore, _ = score(testdata.labels, list(y_pred))\n",
    "    cm = confusion_matrix(testdata.labels, y_pred)\n",
    "\n",
    "    # plot\n",
    "    fig, ax = plt.subplots(1,1,figsize=(8,6))\n",
    "    ax.matshow(cm, aspect='auto', vmin=0, vmax=1000, cmap=plt.get_cmap('Blues'))\n",
    "    plt.ylabel('Actual Category')\n",
    "    plt.yticks(range(10), classes)\n",
    "    plt.xlabel('Predicted Category')\n",
    "    plt.xticks(range(10), classes)\n",
    "    plt.show()\n",
    "\n",
    "    # table heading\n",
    "    print('{0:2s} - {1:10s} - {2:4s} - {3:4s} - {4:4s}'\n",
    "    .format('Label', 'Category', 'Precision', 'Recall', 'f1-Score'))\n",
    "    for label, category in enumerate(tuningdata.classes):\n",
    "        print(\"{0:2d} - {1:10s} - {2:4f} - {3:4f} - {4:4f}\"\n",
    "        .format(label, category , round(precision[label], 4), round(recall[label], 3), round(fscore[label], 3)))\n",
    "\n",
    "\n",
    "    print('\\nConfusionMatrix\\n',cm)\n",
    "\n",
    "\n",
    "def unpickle(image_file):\n",
    "    \"\"\"\n",
    "        load pickle file as a dictionary\n",
    "    \"\"\"\n",
    "\n",
    "    with open(image_file, 'rb') as fo:\n",
    "        dict = pickle.load(fo, encoding='bytes')\n",
    "    return dict\n",
    "\n",
    "def to_image_array(image, n_channels=1024, dshape=(32, 32,3)):\n",
    "    \"\"\"\n",
    "        convert image vector(n_channels*R, n_channels*G, n_channels*B)\n",
    "        to image matrix (n_channels*(R, G, B))\n",
    "    \"\"\"\n",
    "\n",
    "    r = image[0:n_channels]\n",
    "    g = image[n_channels:2*n_channels]\n",
    "    b = image[2*n_channels:3*n_channels]\n",
    "    return np.array(list(zip(r, g, b))).reshape(*dshape)\n",
    "\n",
    "def concatenate(datasets:list):\n",
    "    \"\"\"\n",
    "        convert list of dataset objects to\n",
    "        one dataset object\n",
    "    \"\"\"\n",
    "\n",
    "    # copy one of the datasets\n",
    "    result = datasets[0].copy()\n",
    "    data_list = datasets[1:]\n",
    "\n",
    "    # concat rest of dataset objects\n",
    "    # with the first dataset in the list\n",
    "    for data in data_list:\n",
    "        result.images = np.concatenate([result.images, data.images])\n",
    "        result.labels = list(np.concatenate([result.labels, data.labels]))\n",
    "\n",
    "    return result\n",
    "\n",
    "\n",
    "def class_count(dataset):\n",
    "    class_count = {}\n",
    "    for sample in dataset:\n",
    "        label = dataset.classes[sample[1]]\n",
    "        if label not in class_count:\n",
    "            class_count[label] = 0\n",
    "        class_count[label] += 1\n",
    "    return class_count\n"
   ]
  },
  {
   "cell_type": "code",
   "execution_count": 6,
   "metadata": {},
   "outputs": [],
   "source": [
    "class Cifar10(Dataset):\n",
    "    classes = (\n",
    "            'airplane',\n",
    "            'automobile',\n",
    "            'bird',\n",
    "            'cat',\n",
    "            'deer',\n",
    "            'dog',\n",
    "            'frog',\n",
    "            'horse',\n",
    "            'ship',\n",
    "            'truck',\n",
    "            )\n",
    "\n",
    "    def __init__(self, root_dir, transform=None):\n",
    "        data = unpickle(root_dir)\n",
    "        self.labels = data[b'labels']\n",
    "        self.transform = transform\n",
    "        self.images = list(map(to_image_array, data[b'data']))\n",
    "\n",
    "    def __getitem__(self, idx):\n",
    "        if(torch.is_tensor(idx)):\n",
    "            idx = idx.tolist()\n",
    "\n",
    "        image = self.images[idx]\n",
    "        label = self.labels[idx]\n",
    "        sample = (image, label)\n",
    "        if(self.transform):\n",
    "            sample = (self.transform(sample[0]), sample[1])\n",
    "        return sample\n",
    "\n",
    "    def __len__(self):\n",
    "        return self.labels.__len__()\n",
    "\n",
    "    def copy(self):\n",
    "        return copy.deepcopy(self)\n"
   ]
  },
  {
   "cell_type": "code",
   "execution_count": 7,
   "metadata": {},
   "outputs": [],
   "source": [
    "transform = transforms.Compose(\n",
    "    [\n",
    "        transforms.ToTensor(), # transform array to pytorch tensor\n",
    "        transforms.Normalize((0.5, 0.5, 0.5), # normlize mean for (R, G, B)\n",
    "                            (0.5, 0.5, 0.5)) # normlize std for (R, G, B)\n",
    "    ])"
   ]
  },
  {
   "cell_type": "code",
   "execution_count": 8,
   "metadata": {},
   "outputs": [],
   "source": [
    "# Load data_batch_1\n",
    "tuningdata = Cifar10(\"cifar-10-batches-py/data_batch_1\", transform)\n",
    "tuningloader = DataLoader(tuningdata, batch_size=BATCH_SIZE, shuffle=True, num_workers=2)\n",
    "\n",
    "# Load test_batch\n",
    "testdata = Cifar10(\"cifar-10-batches-py/test_batch\", transform)\n",
    "testloader = DataLoader(testdata, batch_size=BATCH_SIZE, shuffle=True, num_workers=2)"
   ]
  },
  {
   "cell_type": "code",
   "execution_count": 9,
   "metadata": {},
   "outputs": [
    {
     "data": {
      "image/png": "[encoded data removed]",
      "text/plain": [
       "<Figure size 720x360 with 1 Axes>"
      ]
     },
     "metadata": {
      "needs_background": "light"
     },
     "output_type": "display_data"
    }
   ],
   "source": [
    "classes_count = class_count(tuningdata)\n",
    "counts = [classes_count[key] for key in classes_count]\n",
    "plt.figure(figsize=(10, 5))\n",
    "plt.bar(classes_count.keys(), height=counts)\n",
    "plt.xlabel('classes')\n",
    "plt.ylabel('number of samples');"
   ]
  },
  {
   "cell_type": "code",
   "execution_count": 15,
   "metadata": {},
   "outputs": [],
   "source": [
    "# device = torch.device('cuda' if torch.cuda.is_available() else 'cpu')\n",
    "class Net(nn.Module):\n",
    "    def __init__(self):\n",
    "        super().__init__()\n",
    "        self.fc1 = nn.Linear(32*32*3, 1024)\n",
    "        self.bn1 = nn.BatchNorm1d(num_features=1024)\n",
    "        self.fc2 = nn.Linear(1024, 84)\n",
    "        self.fc3 = nn.Linear(84, 10)\n",
    "        self.dropout = nn.Dropout(0.25)\n",
    "        self.sm = nn.Softmax(dim=1)\n",
    "\n",
    "    def forward(self, x):\n",
    "        x = torch.flatten(x, 1)\n",
    "        x = self.fc1(F.relu(x))\n",
    "        x = self.dropout(x)\n",
    "        x = self.fc2(F.relu(self.bn1(x)))\n",
    "        x = self.dropout(x)\n",
    "        x = self.fc3(F.relu(x))\n",
    "        x = self.sm(x)\n",
    "        return x\n",
    "\n",
    "    def train(self, trainloader, optimizer, criterion, epochs):\n",
    "        # in order to return loss and accuracy\n",
    "        acc_hist = []\n",
    "        loss_hist = []\n",
    "        for epoch in range(epochs):  # loop over the dataset multiple times\n",
    "            # accuracy history\n",
    "            acc = []\n",
    "            total_images = 0\n",
    "            total_correct = 0\n",
    "            # loss history\n",
    "            running_loss = []\n",
    "            for data in tqdm(trainloader):\n",
    "                # data is a list of [inputs, labels]\n",
    "                inputs, labels = data[0].to(device), data[1].to(device)\n",
    "\n",
    "                # zero the parameter gradients\n",
    "                optimizer.zero_grad()\n",
    "\n",
    "                # forward + backward + optimize\n",
    "                outputs = self(inputs)\n",
    "                loss = criterion(outputs, labels)\n",
    "                loss.backward()\n",
    "                optimizer.step()\n",
    "\n",
    "                # evaluate accuracy\n",
    "                _, predicted = torch.max(outputs.data, 1)\n",
    "                total_images += labels.size(0)\n",
    "                total_correct += (predicted == labels).sum().item()\n",
    "\n",
    "                running_loss.append(loss.item())\n",
    "\n",
    "\n",
    "            # print loss and accuracy\n",
    "            mean_loss = np.mean(running_loss)\n",
    "            model_accuracy = total_correct / total_images * 100\n",
    "            print('epoch: {0:<4} | loss: {1:<6} | accuracy: {2:<4}'.\n",
    "            format(epoch + 1, round(mean_loss, 3), round(model_accuracy, 2)))\n",
    "\n",
    "            loss_hist.append(mean_loss)\n",
    "            acc_hist.append(model_accuracy)\n",
    "\n",
    "        print('Finished Training')\n",
    "        return [loss_hist, acc_hist]\n",
    "\n",
    "\n",
    "    def score(self, testloader):\n",
    "        correct = 0\n",
    "        total = 0\n",
    "        # since we're not training, we don't need to calculate the gradients for our outputs\n",
    "        with torch.no_grad():\n",
    "            for data in testloader:\n",
    "                images, labels = data[0].to(device), data[1].to(device)\n",
    "                # calculate outputs by running images through the network\n",
    "                outputs = self(images)\n",
    "                # the class with the highest energy is what we choose as prediction\n",
    "                _, predicted = torch.max(outputs.data, 1)\n",
    "                total += labels.size(0)\n",
    "                correct += (predicted == labels).sum().item()\n",
    "\n",
    "        print('Accuracy of the network on the 10000 test images: %d %%' % (\n",
    "            100 * correct / total))\n",
    "\n",
    "    def loss(self, dataloader, criterion):\n",
    "        loss = []\n",
    "        with torch.no_grad():\n",
    "            for data in dataloader:\n",
    "                pred = self(data[0].to(device)) # predict image label\n",
    "                output = torch.Tensor.cpu(pred) # bring data to the memory\n",
    "                loss.append(criterion(output, data[1])) # calculate loss with predictions and true labels\n",
    "\n",
    "        return np.mean(loss)\n",
    "\n",
    "    def predict(self, dataloader):\n",
    "        y_true = []\n",
    "        outputs  = []\n",
    "        with torch.no_grad():\n",
    "            for data in dataloader:\n",
    "                input, label = data[0].to(device), data[1].to(device)\n",
    "                output = self(input)\n",
    "                _ , predicted = torch.max(output.data, 1)\n",
    "                outputs.append(np.array(torch.Tensor.cpu(predicted)))\n",
    "                y_true.append(np.array(torch.Tensor.cpu(label)))\n",
    "\n",
    "        return np.ravel(outputs), y_true\n"
   ]
  },
  {
   "cell_type": "markdown",
   "metadata": {},
   "source": [
    "<h1>\n",
    "    Tuning Model\n",
    "</h1>\n",
    "<h3>\n",
    "    train using batch number 1 include 10,000 image data with labels\n",
    "</h3>"
   ]
  },
  {
   "cell_type": "code",
   "execution_count": 16,
   "metadata": {},
   "outputs": [],
   "source": [
    "# create and config tuning model\n",
    "\n",
    "tuning_model = Net()\n",
    "criterion = CrossEntropyLoss()\n",
    "optimizer = SGD(tuning_model.parameters(),\n",
    "                lr=LEARNING_RATE,\n",
    "                momentum=0.9)\n",
    "tuning_model.to(device)\n",
    "\n",
    "# list of loss and accuracy\n",
    "hist = [[], []]"
   ]
  },
  {
   "cell_type": "code",
   "execution_count": 17,
   "metadata": {},
   "outputs": [
    {
     "name": "stderr",
     "output_type": "stream",
     "text": [
      "100%|██████████| 2000/2000 [00:11<00:00, 167.22it/s]\n",
      "  0%|          | 0/2000 [00:00<?, ?it/s]"
     ]
    },
    {
     "name": "stdout",
     "output_type": "stream",
     "text": [
      "epoch: 1    | loss: 2.263  | accuracy: 19.05\n"
     ]
    },
    {
     "name": "stderr",
     "output_type": "stream",
     "text": [
      "100%|██████████| 2000/2000 [00:11<00:00, 167.85it/s]\n"
     ]
    },
    {
     "name": "stdout",
     "output_type": "stream",
     "text": [
      "epoch: 2    | loss: 2.212  | accuracy: 24.31\n",
      "Finished Training\n"
     ]
    },
    {
     "data": {
      "image/png": "[encoded data removed]",
      "text/plain": [
       "<Figure size 1080x360 with 2 Axes>"
      ]
     },
     "metadata": {
      "needs_background": "light"
     },
     "output_type": "display_data"
    }
   ],
   "source": [
    "res = []\n",
    "res += tuning_model.train(tuningloader, optimizer, criterion, epochs=EPOCHS)\n",
    "\n",
    "# save older results\n",
    "hist[0] += res[0]\n",
    "hist[1] += res[1]\n",
    "hist_plot(hist)"
   ]
  },
  {
   "cell_type": "code",
   "execution_count": 18,
   "metadata": {},
   "outputs": [
    {
     "name": "stderr",
     "output_type": "stream",
     "text": [
      "/home/mohammad/.local/lib/python3.8/site-packages/sklearn/metrics/classification.py:1134: UndefinedMetricWarning: Precision and F-score are ill-defined and being set to 0.0 in labels with no predicted samples.\n",
      "  precision = _prf_divide(tp_sum, pred_sum,\n"
     ]
    },
    {
     "data": {
      "image/png": "[encoded data removed]",
      "text/plain": [
       "<Figure size 576x432 with 1 Axes>"
      ]
     },
     "metadata": {
      "needs_background": "light"
     },
     "output_type": "display_data"
    },
    {
     "name": "stdout",
     "output_type": "stream",
     "text": [
      "Label - Category   - Precision - Recall - f1-Score\n",
      " 0 - airplane   - 0.100300 - 0.141000 - 0.117000\n",
      " 1 - automobile - 0.100000 - 0.093000 - 0.096000\n",
      " 2 - bird       - 0.000000 - 0.000000 - 0.000000\n",
      " 3 - cat        - 0.000000 - 0.000000 - 0.000000\n",
      " 4 - deer       - 0.105100 - 0.072000 - 0.085000\n",
      " 5 - dog        - 0.091500 - 0.075000 - 0.082000\n",
      " 6 - frog       - 0.099300 - 0.296000 - 0.149000\n",
      " 7 - horse      - 0.104500 - 0.007000 - 0.013000\n",
      " 8 - ship       - 0.098800 - 0.183000 - 0.128000\n",
      " 9 - truck      - 0.112400 - 0.141000 - 0.125000\n",
      "\n",
      "ConfusionMatrix\n",
      " [[141  88   0   0  66  81 282   5 208 129]\n",
      " [147  93   0   0  71  75 297   8 187 122]\n",
      " [146  89   0   1  76  81 305   5 181 116]\n",
      " [143  75   0   0  73  83 295   6 202 123]\n",
      " [127  96   0   2  72  94 301   7 174 127]\n",
      " [132  96   0   0  56  75 311   8 203 119]\n",
      " [130 103   0   1  53  80 296   8 193 136]\n",
      " [138  96   0   0  76  95 302   7 171 115]\n",
      " [155 100   0   0  64  76 287   8 183 127]\n",
      " [147  94   0   0  78  80 304   5 151 141]]\n"
     ]
    }
   ],
   "source": [
    "metrics(tuning_model)"
   ]
  },
  {
   "cell_type": "code",
   "execution_count": 19,
   "metadata": {},
   "outputs": [],
   "source": [
    "# concatenate all batch data\n",
    "batches_list = []\n",
    "for batch_data in glob.glob(\"cifar-10-batches-py/data_batch_*\"):\n",
    "    batches_list.append(Cifar10(batch_data, transform))\n",
    "batches_list\n",
    "\n",
    "traindata = concatenate(batches_list)\n",
    "trainloader = DataLoader(traindata, batch_size=10, shuffle=True, num_workers=2)\n"
   ]
  },
  {
   "cell_type": "markdown",
   "metadata": {},
   "source": [
    "<h1>\n",
    "    Main Model\n",
    "</h1>\n",
    "<h3>\n",
    "    train using All data include 50,000 image data with labels\n",
    "</h3>"
   ]
  },
  {
   "cell_type": "code",
   "execution_count": 20,
   "metadata": {},
   "outputs": [],
   "source": [
    "model = Net()\n",
    "criterion = CrossEntropyLoss()\n",
    "optimizer = SGD(model.parameters(), lr=LEARNING_RATE, momentum=0.9)\n",
    "model.to(device)\n",
    "model_hist = [[], []]"
   ]
  },
  {
   "cell_type": "code",
   "execution_count": 21,
   "metadata": {},
   "outputs": [
    {
     "name": "stderr",
     "output_type": "stream",
     "text": [
      "100%|██████████| 5000/5000 [00:26<00:00, 190.87it/s]\n",
      "  0%|          | 0/5000 [00:00<?, ?it/s]"
     ]
    },
    {
     "name": "stdout",
     "output_type": "stream",
     "text": [
      "epoch: 1    | loss: 2.207  | accuracy: 25.05\n"
     ]
    },
    {
     "name": "stderr",
     "output_type": "stream",
     "text": [
      "100%|██████████| 5000/5000 [00:28<00:00, 175.12it/s]\n"
     ]
    },
    {
     "name": "stdout",
     "output_type": "stream",
     "text": [
      "epoch: 2    | loss: 2.141  | accuracy: 31.84\n",
      "Finished Training\n"
     ]
    },
    {
     "data": {
      "image/png": "[encoded data removed]",
      "text/plain": [
       "<Figure size 1080x360 with 2 Axes>"
      ]
     },
     "metadata": {
      "needs_background": "light"
     },
     "output_type": "display_data"
    }
   ],
   "source": [
    "res = []\n",
    "res += model.train(trainloader, optimizer, criterion, epochs=EPOCHS)\n",
    "\n",
    "# save older results\n",
    "model_hist[0] += res[0]\n",
    "model_hist[1] += res[1]\n",
    "hist_plot(model_hist)"
   ]
  },
  {
   "cell_type": "code",
   "execution_count": null,
   "metadata": {},
   "outputs": [
    {
     "data": {
      "image/png": "[encoded data removed]",
      "image/svg+xml": "<?xml version=\"1.0\" encoding=\"utf-8\" standalone=\"no\"?>\n<!DOCTYPE svg PUBLIC \"-//W3C//DTD SVG 1.1//EN\"\n  \"http://www.w3.org/Graphics/SVG/1.1/DTD/svg11.dtd\">\n<!-- Created with matplotlib (https://matplotlib.org/) -->\n<svg height=\"370.91625pt\" version=\"1.1\" viewBox=\"0 0 537.9 370.91625\" width=\"537.9pt\" xmlns=\"http://www.w3.org/2000/svg\" xmlns:xlink=\"http://www.w3.org/1999/xlink\">\n <metadata>\n  <rdf:RDF xmlns:cc=\"http://creativecommons.org/ns#\" xmlns:dc=\"http://purl.org/dc/elements/1.1/\" xmlns:rdf=\"http://www.w3.org/1999/02/22-rdf-syntax-ns#\">\n   <cc:Work>\n    <dc:type rdf:resource=\"http://purl.org/dc/dcmitype/StillImage\"/>\n    <dc:date>2021-08-07T22:57:13.955906</dc:date>\n    <dc:format>image/svg+xml</dc:format>\n    <dc:creator>\n     <cc:Agent>\n      <dc:title>Matplotlib v3.3.2, https://matplotlib.org/</dc:title>\n     </cc:Agent>\n    </dc:creator>\n   </cc:Work>\n  </rdf:RDF>\n </metadata>\n <defs>\n  <style type=\"text/css\">*{stroke-linecap:butt;stroke-linejoin:round;}</style>\n </defs>\n <g id=\"figure_1\">\n  <g id=\"patch_1\">\n   <path d=\"M 0 370.91625 \nL 537.9 370.91625 \nL 537.9 0 \nL 0 0 \nz\n\" style=\"fill:none;\"/>\n  </g>\n  <g id=\"axes_1\">\n   <g id=\"patch_2\">\n    <path d=\"M 84.3 350.038125 \nL 530.7 350.038125 \nL 530.7 23.878125 \nL 84.3 23.878125 \nz\n\" style=\"fill:#ffffff;\"/>\n   </g>\n   <g clip-path=\"url(#pd095a2c43d)\">\n    <image height=\"327\" id=\"image39bc3e2b9c\" transform=\"scale(1 -1)translate(0 -327)\" width=\"447\" x=\"84.3\" xlink:href=\"data:image/png;base64,\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\" y=\"-23.038125\"/>\n   </g>\n   <g id=\"matplotlib.axis_1\">\n    <g id=\"xtick_1\">\n     <g id=\"line2d_1\">\n      <defs>\n       <path d=\"M 0 0 \nL 0 3.5 \n\" id=\"m1a62888370\" style=\"stroke:#000000;stroke-width:0.8;\"/>\n      </defs>\n      <g>\n       <use style=\"stroke:#000000;stroke-width:0.8;\" x=\"106.62\" xlink:href=\"#m1a62888370\" y=\"350.038125\"/>\n      </g>\n     </g>\n     <g id=\"line2d_2\">\n      <defs>\n       <path d=\"M 0 0 \nL 0 -3.5 \n\" id=\"m612bd1a770\" style=\"stroke:#000000;stroke-width:0.8;\"/>\n      </defs>\n      <g>\n       <use style=\"stroke:#000000;stroke-width:0.8;\" x=\"106.62\" xlink:href=\"#m612bd1a770\" y=\"23.878125\"/>\n      </g>\n     </g>\n     <g id=\"text_1\">\n      <!-- airplane -->\n      <g transform=\"translate(86.23875 14.798437)scale(0.1 -0.1)\">\n       <defs>\n        <path d=\"M 34.28125 27.484375 \nQ 23.390625 27.484375 19.1875 25 \nQ 14.984375 22.515625 14.984375 16.5 \nQ 14.984375 11.71875 18.140625 8.90625 \nQ 21.296875 6.109375 26.703125 6.109375 \nQ 34.1875 6.109375 38.703125 11.40625 \nQ 43.21875 16.703125 43.21875 25.484375 \nL 43.21875 27.484375 \nz\nM 52.203125 31.203125 \nL 52.203125 0 \nL 43.21875 0 \nL 43.21875 8.296875 \nQ 40.140625 3.328125 35.546875 0.953125 \nQ 30.953125 -1.421875 24.3125 -1.421875 \nQ 15.921875 -1.421875 10.953125 3.296875 \nQ 6 8.015625 6 15.921875 \nQ 6 25.140625 12.171875 29.828125 \nQ 18.359375 34.515625 30.609375 34.515625 \nL 43.21875 34.515625 \nL 43.21875 35.40625 \nQ 43.21875 41.609375 39.140625 45 \nQ 35.0625 48.390625 27.6875 48.390625 \nQ 23 48.390625 18.546875 47.265625 \nQ 14.109375 46.140625 10.015625 43.890625 \nL 10.015625 52.203125 \nQ 14.9375 54.109375 19.578125 55.046875 \nQ 24.21875 56 28.609375 56 \nQ 40.484375 56 46.34375 49.84375 \nQ 52.203125 43.703125 52.203125 31.203125 \nz\n\" id=\"DejaVuSans-97\"/>\n        <path d=\"M 9.421875 54.6875 \nL 18.40625 54.6875 \nL 18.40625 0 \nL 9.421875 0 \nz\nM 9.421875 75.984375 \nL 18.40625 75.984375 \nL 18.40625 64.59375 \nL 9.421875 64.59375 \nz\n\" id=\"DejaVuSans-105\"/>\n        <path d=\"M 41.109375 46.296875 \nQ 39.59375 47.171875 37.8125 47.578125 \nQ 36.03125 48 33.890625 48 \nQ 26.265625 48 22.1875 43.046875 \nQ 18.109375 38.09375 18.109375 28.8125 \nL 18.109375 0 \nL 9.078125 0 \nL 9.078125 54.6875 \nL 18.109375 54.6875 \nL 18.109375 46.1875 \nQ 20.953125 51.171875 25.484375 53.578125 \nQ 30.03125 56 36.53125 56 \nQ 37.453125 56 38.578125 55.875 \nQ 39.703125 55.765625 41.0625 55.515625 \nz\n\" id=\"DejaVuSans-114\"/>\n        <path d=\"M 18.109375 8.203125 \nL 18.109375 -20.796875 \nL 9.078125 -20.796875 \nL 9.078125 54.6875 \nL 18.109375 54.6875 \nL 18.109375 46.390625 \nQ 20.953125 51.265625 25.265625 53.625 \nQ 29.59375 56 35.59375 56 \nQ 45.5625 56 51.78125 48.09375 \nQ 58.015625 40.1875 58.015625 27.296875 \nQ 58.015625 14.40625 51.78125 6.484375 \nQ 45.5625 -1.421875 35.59375 -1.421875 \nQ 29.59375 -1.421875 25.265625 0.953125 \nQ 20.953125 3.328125 18.109375 8.203125 \nz\nM 48.6875 27.296875 \nQ 48.6875 37.203125 44.609375 42.84375 \nQ 40.53125 48.484375 33.40625 48.484375 \nQ 26.265625 48.484375 22.1875 42.84375 \nQ 18.109375 37.203125 18.109375 27.296875 \nQ 18.109375 17.390625 22.1875 11.75 \nQ 26.265625 6.109375 33.40625 6.109375 \nQ 40.53125 6.109375 44.609375 11.75 \nQ 48.6875 17.390625 48.6875 27.296875 \nz\n\" id=\"DejaVuSans-112\"/>\n        <path d=\"M 9.421875 75.984375 \nL 18.40625 75.984375 \nL 18.40625 0 \nL 9.421875 0 \nz\n\" id=\"DejaVuSans-108\"/>\n        <path d=\"M 54.890625 33.015625 \nL 54.890625 0 \nL 45.90625 0 \nL 45.90625 32.71875 \nQ 45.90625 40.484375 42.875 44.328125 \nQ 39.84375 48.1875 33.796875 48.1875 \nQ 26.515625 48.1875 22.3125 43.546875 \nQ 18.109375 38.921875 18.109375 30.90625 \nL 18.109375 0 \nL 9.078125 0 \nL 9.078125 54.6875 \nL 18.109375 54.6875 \nL 18.109375 46.1875 \nQ 21.34375 51.125 25.703125 53.5625 \nQ 30.078125 56 35.796875 56 \nQ 45.21875 56 50.046875 50.171875 \nQ 54.890625 44.34375 54.890625 33.015625 \nz\n\" id=\"DejaVuSans-110\"/>\n        <path d=\"M 56.203125 29.59375 \nL 56.203125 25.203125 \nL 14.890625 25.203125 \nQ 15.484375 15.921875 20.484375 11.0625 \nQ 25.484375 6.203125 34.421875 6.203125 \nQ 39.59375 6.203125 44.453125 7.46875 \nQ 49.3125 8.734375 54.109375 11.28125 \nL 54.109375 2.78125 \nQ 49.265625 0.734375 44.1875 -0.34375 \nQ 39.109375 -1.421875 33.890625 -1.421875 \nQ 20.796875 -1.421875 13.15625 6.1875 \nQ 5.515625 13.8125 5.515625 26.8125 \nQ 5.515625 40.234375 12.765625 48.109375 \nQ 20.015625 56 32.328125 56 \nQ 43.359375 56 49.78125 48.890625 \nQ 56.203125 41.796875 56.203125 29.59375 \nz\nM 47.21875 32.234375 \nQ 47.125 39.59375 43.09375 43.984375 \nQ 39.0625 48.390625 32.421875 48.390625 \nQ 24.90625 48.390625 20.390625 44.140625 \nQ 15.875 39.890625 15.1875 32.171875 \nz\n\" id=\"DejaVuSans-101\"/>\n       </defs>\n       <use xlink:href=\"#DejaVuSans-97\"/>\n       <use x=\"61.279297\" xlink:href=\"#DejaVuSans-105\"/>\n       <use x=\"89.0625\" xlink:href=\"#DejaVuSans-114\"/>\n       <use x=\"130.175781\" xlink:href=\"#DejaVuSans-112\"/>\n       <use x=\"193.652344\" xlink:href=\"#DejaVuSans-108\"/>\n       <use x=\"221.435547\" xlink:href=\"#DejaVuSans-97\"/>\n       <use x=\"282.714844\" xlink:href=\"#DejaVuSans-110\"/>\n       <use x=\"346.09375\" xlink:href=\"#DejaVuSans-101\"/>\n      </g>\n     </g>\n    </g>\n    <g id=\"xtick_2\">\n     <g id=\"line2d_3\">\n      <g>\n       <use style=\"stroke:#000000;stroke-width:0.8;\" x=\"151.26\" xlink:href=\"#m1a62888370\" y=\"350.038125\"/>\n      </g>\n     </g>\n     <g id=\"line2d_4\">\n      <g>\n       <use style=\"stroke:#000000;stroke-width:0.8;\" x=\"151.26\" xlink:href=\"#m612bd1a770\" y=\"23.878125\"/>\n      </g>\n     </g>\n     <g id=\"text_2\">\n      <!-- automobile -->\n      <g transform=\"translate(123.049062 14.798437)scale(0.1 -0.1)\">\n       <defs>\n        <path d=\"M 8.5 21.578125 \nL 8.5 54.6875 \nL 17.484375 54.6875 \nL 17.484375 21.921875 \nQ 17.484375 14.15625 20.5 10.265625 \nQ 23.53125 6.390625 29.59375 6.390625 \nQ 36.859375 6.390625 41.078125 11.03125 \nQ 45.3125 15.671875 45.3125 23.6875 \nL 45.3125 54.6875 \nL 54.296875 54.6875 \nL 54.296875 0 \nL 45.3125 0 \nL 45.3125 8.40625 \nQ 42.046875 3.421875 37.71875 1 \nQ 33.40625 -1.421875 27.6875 -1.421875 \nQ 18.265625 -1.421875 13.375 4.4375 \nQ 8.5 10.296875 8.5 21.578125 \nz\nM 31.109375 56 \nz\n\" id=\"DejaVuSans-117\"/>\n        <path d=\"M 18.3125 70.21875 \nL 18.3125 54.6875 \nL 36.8125 54.6875 \nL 36.8125 47.703125 \nL 18.3125 47.703125 \nL 18.3125 18.015625 \nQ 18.3125 11.328125 20.140625 9.421875 \nQ 21.96875 7.515625 27.59375 7.515625 \nL 36.8125 7.515625 \nL 36.8125 0 \nL 27.59375 0 \nQ 17.1875 0 13.234375 3.875 \nQ 9.28125 7.765625 9.28125 18.015625 \nL 9.28125 47.703125 \nL 2.6875 47.703125 \nL 2.6875 54.6875 \nL 9.28125 54.6875 \nL 9.28125 70.21875 \nz\n\" id=\"DejaVuSans-116\"/>\n        <path d=\"M 30.609375 48.390625 \nQ 23.390625 48.390625 19.1875 42.75 \nQ 14.984375 37.109375 14.984375 27.296875 \nQ 14.984375 17.484375 19.15625 11.84375 \nQ 23.34375 6.203125 30.609375 6.203125 \nQ 37.796875 6.203125 41.984375 11.859375 \nQ 46.1875 17.53125 46.1875 27.296875 \nQ 46.1875 37.015625 41.984375 42.703125 \nQ 37.796875 48.390625 30.609375 48.390625 \nz\nM 30.609375 56 \nQ 42.328125 56 49.015625 48.375 \nQ 55.71875 40.765625 55.71875 27.296875 \nQ 55.71875 13.875 49.015625 6.21875 \nQ 42.328125 -1.421875 30.609375 -1.421875 \nQ 18.84375 -1.421875 12.171875 6.21875 \nQ 5.515625 13.875 5.515625 27.296875 \nQ 5.515625 40.765625 12.171875 48.375 \nQ 18.84375 56 30.609375 56 \nz\n\" id=\"DejaVuSans-111\"/>\n        <path d=\"M 52 44.1875 \nQ 55.375 50.25 60.0625 53.125 \nQ 64.75 56 71.09375 56 \nQ 79.640625 56 84.28125 50.015625 \nQ 88.921875 44.046875 88.921875 33.015625 \nL 88.921875 0 \nL 79.890625 0 \nL 79.890625 32.71875 \nQ 79.890625 40.578125 77.09375 44.375 \nQ 74.3125 48.1875 68.609375 48.1875 \nQ 61.625 48.1875 57.5625 43.546875 \nQ 53.515625 38.921875 53.515625 30.90625 \nL 53.515625 0 \nL 44.484375 0 \nL 44.484375 32.71875 \nQ 44.484375 40.625 41.703125 44.40625 \nQ 38.921875 48.1875 33.109375 48.1875 \nQ 26.21875 48.1875 22.15625 43.53125 \nQ 18.109375 38.875 18.109375 30.90625 \nL 18.109375 0 \nL 9.078125 0 \nL 9.078125 54.6875 \nL 18.109375 54.6875 \nL 18.109375 46.1875 \nQ 21.1875 51.21875 25.484375 53.609375 \nQ 29.78125 56 35.6875 56 \nQ 41.65625 56 45.828125 52.96875 \nQ 50 49.953125 52 44.1875 \nz\n\" id=\"DejaVuSans-109\"/>\n        <path d=\"M 48.6875 27.296875 \nQ 48.6875 37.203125 44.609375 42.84375 \nQ 40.53125 48.484375 33.40625 48.484375 \nQ 26.265625 48.484375 22.1875 42.84375 \nQ 18.109375 37.203125 18.109375 27.296875 \nQ 18.109375 17.390625 22.1875 11.75 \nQ 26.265625 6.109375 33.40625 6.109375 \nQ 40.53125 6.109375 44.609375 11.75 \nQ 48.6875 17.390625 48.6875 27.296875 \nz\nM 18.109375 46.390625 \nQ 20.953125 51.265625 25.265625 53.625 \nQ 29.59375 56 35.59375 56 \nQ 45.5625 56 51.78125 48.09375 \nQ 58.015625 40.1875 58.015625 27.296875 \nQ 58.015625 14.40625 51.78125 6.484375 \nQ 45.5625 -1.421875 35.59375 -1.421875 \nQ 29.59375 -1.421875 25.265625 0.953125 \nQ 20.953125 3.328125 18.109375 8.203125 \nL 18.109375 0 \nL 9.078125 0 \nL 9.078125 75.984375 \nL 18.109375 75.984375 \nz\n\" id=\"DejaVuSans-98\"/>\n       </defs>\n       <use xlink:href=\"#DejaVuSans-97\"/>\n       <use x=\"61.279297\" xlink:href=\"#DejaVuSans-117\"/>\n       <use x=\"124.658203\" xlink:href=\"#DejaVuSans-116\"/>\n       <use x=\"163.867188\" xlink:href=\"#DejaVuSans-111\"/>\n       <use x=\"225.048828\" xlink:href=\"#DejaVuSans-109\"/>\n       <use x=\"322.460938\" xlink:href=\"#DejaVuSans-111\"/>\n       <use x=\"383.642578\" xlink:href=\"#DejaVuSans-98\"/>\n       <use x=\"447.119141\" xlink:href=\"#DejaVuSans-105\"/>\n       <use x=\"474.902344\" xlink:href=\"#DejaVuSans-108\"/>\n       <use x=\"502.685547\" xlink:href=\"#DejaVuSans-101\"/>\n      </g>\n     </g>\n    </g>\n    <g id=\"xtick_3\">\n     <g id=\"line2d_5\">\n      <g>\n       <use style=\"stroke:#000000;stroke-width:0.8;\" x=\"195.9\" xlink:href=\"#m1a62888370\" y=\"350.038125\"/>\n      </g>\n     </g>\n     <g id=\"line2d_6\">\n      <g>\n       <use style=\"stroke:#000000;stroke-width:0.8;\" x=\"195.9\" xlink:href=\"#m612bd1a770\" y=\"23.878125\"/>\n      </g>\n     </g>\n     <g id=\"text_3\">\n      <!-- bird -->\n      <g transform=\"translate(186.194531 14.798437)scale(0.1 -0.1)\">\n       <defs>\n        <path d=\"M 45.40625 46.390625 \nL 45.40625 75.984375 \nL 54.390625 75.984375 \nL 54.390625 0 \nL 45.40625 0 \nL 45.40625 8.203125 \nQ 42.578125 3.328125 38.25 0.953125 \nQ 33.9375 -1.421875 27.875 -1.421875 \nQ 17.96875 -1.421875 11.734375 6.484375 \nQ 5.515625 14.40625 5.515625 27.296875 \nQ 5.515625 40.1875 11.734375 48.09375 \nQ 17.96875 56 27.875 56 \nQ 33.9375 56 38.25 53.625 \nQ 42.578125 51.265625 45.40625 46.390625 \nz\nM 14.796875 27.296875 \nQ 14.796875 17.390625 18.875 11.75 \nQ 22.953125 6.109375 30.078125 6.109375 \nQ 37.203125 6.109375 41.296875 11.75 \nQ 45.40625 17.390625 45.40625 27.296875 \nQ 45.40625 37.203125 41.296875 42.84375 \nQ 37.203125 48.484375 30.078125 48.484375 \nQ 22.953125 48.484375 18.875 42.84375 \nQ 14.796875 37.203125 14.796875 27.296875 \nz\n\" id=\"DejaVuSans-100\"/>\n       </defs>\n       <use xlink:href=\"#DejaVuSans-98\"/>\n       <use x=\"63.476562\" xlink:href=\"#DejaVuSans-105\"/>\n       <use x=\"91.259766\" xlink:href=\"#DejaVuSans-114\"/>\n       <use x=\"130.623047\" xlink:href=\"#DejaVuSans-100\"/>\n      </g>\n     </g>\n    </g>\n    <g id=\"xtick_4\">\n     <g id=\"line2d_7\">\n      <g>\n       <use style=\"stroke:#000000;stroke-width:0.8;\" x=\"240.54\" xlink:href=\"#m1a62888370\" y=\"350.038125\"/>\n      </g>\n     </g>\n     <g id=\"line2d_8\">\n      <g>\n       <use style=\"stroke:#000000;stroke-width:0.8;\" x=\"240.54\" xlink:href=\"#m612bd1a770\" y=\"23.878125\"/>\n      </g>\n     </g>\n     <g id=\"text_4\">\n      <!-- cat -->\n      <g transform=\"translate(232.766562 14.798437)scale(0.1 -0.1)\">\n       <defs>\n        <path d=\"M 48.78125 52.59375 \nL 48.78125 44.1875 \nQ 44.96875 46.296875 41.140625 47.34375 \nQ 37.3125 48.390625 33.40625 48.390625 \nQ 24.65625 48.390625 19.8125 42.84375 \nQ 14.984375 37.3125 14.984375 27.296875 \nQ 14.984375 17.28125 19.8125 11.734375 \nQ 24.65625 6.203125 33.40625 6.203125 \nQ 37.3125 6.203125 41.140625 7.25 \nQ 44.96875 8.296875 48.78125 10.40625 \nL 48.78125 2.09375 \nQ 45.015625 0.34375 40.984375 -0.53125 \nQ 36.96875 -1.421875 32.421875 -1.421875 \nQ 20.0625 -1.421875 12.78125 6.34375 \nQ 5.515625 14.109375 5.515625 27.296875 \nQ 5.515625 40.671875 12.859375 48.328125 \nQ 20.21875 56 33.015625 56 \nQ 37.15625 56 41.109375 55.140625 \nQ 45.0625 54.296875 48.78125 52.59375 \nz\n\" id=\"DejaVuSans-99\"/>\n       </defs>\n       <use xlink:href=\"#DejaVuSans-99\"/>\n       <use x=\"54.980469\" xlink:href=\"#DejaVuSans-97\"/>\n       <use x=\"116.259766\" xlink:href=\"#DejaVuSans-116\"/>\n      </g>\n     </g>\n    </g>\n    <g id=\"xtick_5\">\n     <g id=\"line2d_9\">\n      <g>\n       <use style=\"stroke:#000000;stroke-width:0.8;\" x=\"285.18\" xlink:href=\"#m1a62888370\" y=\"350.038125\"/>\n      </g>\n     </g>\n     <g id=\"line2d_10\">\n      <g>\n       <use style=\"stroke:#000000;stroke-width:0.8;\" x=\"285.18\" xlink:href=\"#m612bd1a770\" y=\"23.878125\"/>\n      </g>\n     </g>\n     <g id=\"text_5\">\n      <!-- deer -->\n      <g transform=\"translate(273.797187 14.798437)scale(0.1 -0.1)\">\n       <use xlink:href=\"#DejaVuSans-100\"/>\n       <use x=\"63.476562\" xlink:href=\"#DejaVuSans-101\"/>\n       <use x=\"125\" xlink:href=\"#DejaVuSans-101\"/>\n       <use x=\"186.523438\" xlink:href=\"#DejaVuSans-114\"/>\n      </g>\n     </g>\n    </g>\n    <g id=\"xtick_6\">\n     <g id=\"line2d_11\">\n      <g>\n       <use style=\"stroke:#000000;stroke-width:0.8;\" x=\"329.82\" xlink:href=\"#m1a62888370\" y=\"350.038125\"/>\n      </g>\n     </g>\n     <g id=\"line2d_12\">\n      <g>\n       <use style=\"stroke:#000000;stroke-width:0.8;\" x=\"329.82\" xlink:href=\"#m612bd1a770\" y=\"23.878125\"/>\n      </g>\n     </g>\n     <g id=\"text_6\">\n      <!-- dog -->\n      <g transform=\"translate(320.412187 14.798437)scale(0.1 -0.1)\">\n       <defs>\n        <path d=\"M 45.40625 27.984375 \nQ 45.40625 37.75 41.375 43.109375 \nQ 37.359375 48.484375 30.078125 48.484375 \nQ 22.859375 48.484375 18.828125 43.109375 \nQ 14.796875 37.75 14.796875 27.984375 \nQ 14.796875 18.265625 18.828125 12.890625 \nQ 22.859375 7.515625 30.078125 7.515625 \nQ 37.359375 7.515625 41.375 12.890625 \nQ 45.40625 18.265625 45.40625 27.984375 \nz\nM 54.390625 6.78125 \nQ 54.390625 -7.171875 48.1875 -13.984375 \nQ 42 -20.796875 29.203125 -20.796875 \nQ 24.46875 -20.796875 20.265625 -20.09375 \nQ 16.0625 -19.390625 12.109375 -17.921875 \nL 12.109375 -9.1875 \nQ 16.0625 -11.328125 19.921875 -12.34375 \nQ 23.78125 -13.375 27.78125 -13.375 \nQ 36.625 -13.375 41.015625 -8.765625 \nQ 45.40625 -4.15625 45.40625 5.171875 \nL 45.40625 9.625 \nQ 42.625 4.78125 38.28125 2.390625 \nQ 33.9375 0 27.875 0 \nQ 17.828125 0 11.671875 7.65625 \nQ 5.515625 15.328125 5.515625 27.984375 \nQ 5.515625 40.671875 11.671875 48.328125 \nQ 17.828125 56 27.875 56 \nQ 33.9375 56 38.28125 53.609375 \nQ 42.625 51.21875 45.40625 46.390625 \nL 45.40625 54.6875 \nL 54.390625 54.6875 \nz\n\" id=\"DejaVuSans-103\"/>\n       </defs>\n       <use xlink:href=\"#DejaVuSans-100\"/>\n       <use x=\"63.476562\" xlink:href=\"#DejaVuSans-111\"/>\n       <use x=\"124.658203\" xlink:href=\"#DejaVuSans-103\"/>\n      </g>\n     </g>\n    </g>\n    <g id=\"xtick_7\">\n     <g id=\"line2d_13\">\n      <g>\n       <use style=\"stroke:#000000;stroke-width:0.8;\" x=\"374.46\" xlink:href=\"#m1a62888370\" y=\"350.038125\"/>\n      </g>\n     </g>\n     <g id=\"line2d_14\">\n      <g>\n       <use style=\"stroke:#000000;stroke-width:0.8;\" x=\"374.46\" xlink:href=\"#m612bd1a770\" y=\"23.878125\"/>\n      </g>\n     </g>\n     <g id=\"text_7\">\n      <!-- frog -->\n      <g transform=\"translate(364.523281 14.798437)scale(0.1 -0.1)\">\n       <defs>\n        <path d=\"M 37.109375 75.984375 \nL 37.109375 68.5 \nL 28.515625 68.5 \nQ 23.6875 68.5 21.796875 66.546875 \nQ 19.921875 64.59375 19.921875 59.515625 \nL 19.921875 54.6875 \nL 34.71875 54.6875 \nL 34.71875 47.703125 \nL 19.921875 47.703125 \nL 19.921875 0 \nL 10.890625 0 \nL 10.890625 47.703125 \nL 2.296875 47.703125 \nL 2.296875 54.6875 \nL 10.890625 54.6875 \nL 10.890625 58.5 \nQ 10.890625 67.625 15.140625 71.796875 \nQ 19.390625 75.984375 28.609375 75.984375 \nz\n\" id=\"DejaVuSans-102\"/>\n       </defs>\n       <use xlink:href=\"#DejaVuSans-102\"/>\n       <use x=\"35.205078\" xlink:href=\"#DejaVuSans-114\"/>\n       <use x=\"74.068359\" xlink:href=\"#DejaVuSans-111\"/>\n       <use x=\"135.25\" xlink:href=\"#DejaVuSans-103\"/>\n      </g>\n     </g>\n    </g>\n    <g id=\"xtick_8\">\n     <g id=\"line2d_15\">\n      <g>\n       <use style=\"stroke:#000000;stroke-width:0.8;\" x=\"419.1\" xlink:href=\"#m1a62888370\" y=\"350.038125\"/>\n      </g>\n     </g>\n     <g id=\"line2d_16\">\n      <g>\n       <use style=\"stroke:#000000;stroke-width:0.8;\" x=\"419.1\" xlink:href=\"#m612bd1a770\" y=\"23.878125\"/>\n      </g>\n     </g>\n     <g id=\"text_8\">\n      <!-- horse -->\n      <g transform=\"translate(405.135156 14.798437)scale(0.1 -0.1)\">\n       <defs>\n        <path d=\"M 54.890625 33.015625 \nL 54.890625 0 \nL 45.90625 0 \nL 45.90625 32.71875 \nQ 45.90625 40.484375 42.875 44.328125 \nQ 39.84375 48.1875 33.796875 48.1875 \nQ 26.515625 48.1875 22.3125 43.546875 \nQ 18.109375 38.921875 18.109375 30.90625 \nL 18.109375 0 \nL 9.078125 0 \nL 9.078125 75.984375 \nL 18.109375 75.984375 \nL 18.109375 46.1875 \nQ 21.34375 51.125 25.703125 53.5625 \nQ 30.078125 56 35.796875 56 \nQ 45.21875 56 50.046875 50.171875 \nQ 54.890625 44.34375 54.890625 33.015625 \nz\n\" id=\"DejaVuSans-104\"/>\n        <path d=\"M 44.28125 53.078125 \nL 44.28125 44.578125 \nQ 40.484375 46.53125 36.375 47.5 \nQ 32.28125 48.484375 27.875 48.484375 \nQ 21.1875 48.484375 17.84375 46.4375 \nQ 14.5 44.390625 14.5 40.28125 \nQ 14.5 37.15625 16.890625 35.375 \nQ 19.28125 33.59375 26.515625 31.984375 \nL 29.59375 31.296875 \nQ 39.15625 29.25 43.1875 25.515625 \nQ 47.21875 21.78125 47.21875 15.09375 \nQ 47.21875 7.46875 41.1875 3.015625 \nQ 35.15625 -1.421875 24.609375 -1.421875 \nQ 20.21875 -1.421875 15.453125 -0.5625 \nQ 10.6875 0.296875 5.421875 2 \nL 5.421875 11.28125 \nQ 10.40625 8.6875 15.234375 7.390625 \nQ 20.0625 6.109375 24.8125 6.109375 \nQ 31.15625 6.109375 34.5625 8.28125 \nQ 37.984375 10.453125 37.984375 14.40625 \nQ 37.984375 18.0625 35.515625 20.015625 \nQ 33.0625 21.96875 24.703125 23.78125 \nL 21.578125 24.515625 \nQ 13.234375 26.265625 9.515625 29.90625 \nQ 5.8125 33.546875 5.8125 39.890625 \nQ 5.8125 47.609375 11.28125 51.796875 \nQ 16.75 56 26.8125 56 \nQ 31.78125 56 36.171875 55.265625 \nQ 40.578125 54.546875 44.28125 53.078125 \nz\n\" id=\"DejaVuSans-115\"/>\n       </defs>\n       <use xlink:href=\"#DejaVuSans-104\"/>\n       <use x=\"63.378906\" xlink:href=\"#DejaVuSans-111\"/>\n       <use x=\"124.560547\" xlink:href=\"#DejaVuSans-114\"/>\n       <use x=\"165.673828\" xlink:href=\"#DejaVuSans-115\"/>\n       <use x=\"217.773438\" xlink:href=\"#DejaVuSans-101\"/>\n      </g>\n     </g>\n    </g>\n    <g id=\"xtick_9\">\n     <g id=\"line2d_17\">\n      <g>\n       <use style=\"stroke:#000000;stroke-width:0.8;\" x=\"463.74\" xlink:href=\"#m1a62888370\" y=\"350.038125\"/>\n      </g>\n     </g>\n     <g id=\"line2d_18\">\n      <g>\n       <use style=\"stroke:#000000;stroke-width:0.8;\" x=\"463.74\" xlink:href=\"#m612bd1a770\" y=\"23.878125\"/>\n      </g>\n     </g>\n     <g id=\"text_9\">\n      <!-- ship -->\n      <g transform=\"translate(453.403281 14.798437)scale(0.1 -0.1)\">\n       <use xlink:href=\"#DejaVuSans-115\"/>\n       <use x=\"52.099609\" xlink:href=\"#DejaVuSans-104\"/>\n       <use x=\"115.478516\" xlink:href=\"#DejaVuSans-105\"/>\n       <use x=\"143.261719\" xlink:href=\"#DejaVuSans-112\"/>\n      </g>\n     </g>\n    </g>\n    <g id=\"xtick_10\">\n     <g id=\"line2d_19\">\n      <g>\n       <use style=\"stroke:#000000;stroke-width:0.8;\" x=\"508.38\" xlink:href=\"#m1a62888370\" y=\"350.038125\"/>\n      </g>\n     </g>\n     <g id=\"line2d_20\">\n      <g>\n       <use style=\"stroke:#000000;stroke-width:0.8;\" x=\"508.38\" xlink:href=\"#m612bd1a770\" y=\"23.878125\"/>\n      </g>\n     </g>\n     <g id=\"text_10\">\n      <!-- truck -->\n      <g transform=\"translate(495.551094 14.798437)scale(0.1 -0.1)\">\n       <defs>\n        <path d=\"M 9.078125 75.984375 \nL 18.109375 75.984375 \nL 18.109375 31.109375 \nL 44.921875 54.6875 \nL 56.390625 54.6875 \nL 27.390625 29.109375 \nL 57.625 0 \nL 45.90625 0 \nL 18.109375 26.703125 \nL 18.109375 0 \nL 9.078125 0 \nz\n\" id=\"DejaVuSans-107\"/>\n       </defs>\n       <use xlink:href=\"#DejaVuSans-116\"/>\n       <use x=\"39.208984\" xlink:href=\"#DejaVuSans-114\"/>\n       <use x=\"80.322266\" xlink:href=\"#DejaVuSans-117\"/>\n       <use x=\"143.701172\" xlink:href=\"#DejaVuSans-99\"/>\n       <use x=\"198.681641\" xlink:href=\"#DejaVuSans-107\"/>\n      </g>\n     </g>\n    </g>\n    <g id=\"text_11\">\n     <!-- Predicted Category -->\n     <g transform=\"translate(259.6 361.636562)scale(0.1 -0.1)\">\n      <defs>\n       <path d=\"M 19.671875 64.796875 \nL 19.671875 37.40625 \nL 32.078125 37.40625 \nQ 38.96875 37.40625 42.71875 40.96875 \nQ 46.484375 44.53125 46.484375 51.125 \nQ 46.484375 57.671875 42.71875 61.234375 \nQ 38.96875 64.796875 32.078125 64.796875 \nz\nM 9.8125 72.90625 \nL 32.078125 72.90625 \nQ 44.34375 72.90625 50.609375 67.359375 \nQ 56.890625 61.8125 56.890625 51.125 \nQ 56.890625 40.328125 50.609375 34.8125 \nQ 44.34375 29.296875 32.078125 29.296875 \nL 19.671875 29.296875 \nL 19.671875 0 \nL 9.8125 0 \nz\n\" id=\"DejaVuSans-80\"/>\n       <path id=\"DejaVuSans-32\"/>\n       <path d=\"M 64.40625 67.28125 \nL 64.40625 56.890625 \nQ 59.421875 61.53125 53.78125 63.8125 \nQ 48.140625 66.109375 41.796875 66.109375 \nQ 29.296875 66.109375 22.65625 58.46875 \nQ 16.015625 50.828125 16.015625 36.375 \nQ 16.015625 21.96875 22.65625 14.328125 \nQ 29.296875 6.6875 41.796875 6.6875 \nQ 48.140625 6.6875 53.78125 8.984375 \nQ 59.421875 11.28125 64.40625 15.921875 \nL 64.40625 5.609375 \nQ 59.234375 2.09375 53.4375 0.328125 \nQ 47.65625 -1.421875 41.21875 -1.421875 \nQ 24.65625 -1.421875 15.125 8.703125 \nQ 5.609375 18.84375 5.609375 36.375 \nQ 5.609375 53.953125 15.125 64.078125 \nQ 24.65625 74.21875 41.21875 74.21875 \nQ 47.75 74.21875 53.53125 72.484375 \nQ 59.328125 70.75 64.40625 67.28125 \nz\n\" id=\"DejaVuSans-67\"/>\n       <path d=\"M 32.171875 -5.078125 \nQ 28.375 -14.84375 24.75 -17.8125 \nQ 21.140625 -20.796875 15.09375 -20.796875 \nL 7.90625 -20.796875 \nL 7.90625 -13.28125 \nL 13.1875 -13.28125 \nQ 16.890625 -13.28125 18.9375 -11.515625 \nQ 21 -9.765625 23.484375 -3.21875 \nL 25.09375 0.875 \nL 2.984375 54.6875 \nL 12.5 54.6875 \nL 29.59375 11.921875 \nL 46.6875 54.6875 \nL 56.203125 54.6875 \nz\n\" id=\"DejaVuSans-121\"/>\n      </defs>\n      <use xlink:href=\"#DejaVuSans-80\"/>\n      <use x=\"58.552734\" xlink:href=\"#DejaVuSans-114\"/>\n      <use x=\"97.416016\" xlink:href=\"#DejaVuSans-101\"/>\n      <use x=\"158.939453\" xlink:href=\"#DejaVuSans-100\"/>\n      <use x=\"222.416016\" xlink:href=\"#DejaVuSans-105\"/>\n      <use x=\"250.199219\" xlink:href=\"#DejaVuSans-99\"/>\n      <use x=\"305.179688\" xlink:href=\"#DejaVuSans-116\"/>\n      <use x=\"344.388672\" xlink:href=\"#DejaVuSans-101\"/>\n      <use x=\"405.912109\" xlink:href=\"#DejaVuSans-100\"/>\n      <use x=\"469.388672\" xlink:href=\"#DejaVuSans-32\"/>\n      <use x=\"501.175781\" xlink:href=\"#DejaVuSans-67\"/>\n      <use x=\"571\" xlink:href=\"#DejaVuSans-97\"/>\n      <use x=\"632.279297\" xlink:href=\"#DejaVuSans-116\"/>\n      <use x=\"671.488281\" xlink:href=\"#DejaVuSans-101\"/>\n      <use x=\"733.011719\" xlink:href=\"#DejaVuSans-103\"/>\n      <use x=\"796.488281\" xlink:href=\"#DejaVuSans-111\"/>\n      <use x=\"857.669922\" xlink:href=\"#DejaVuSans-114\"/>\n      <use x=\"898.783203\" xlink:href=\"#DejaVuSans-121\"/>\n     </g>\n    </g>\n   </g>\n   <g id=\"matplotlib.axis_2\">\n    <g id=\"ytick_1\">\n     <g id=\"line2d_21\">\n      <defs>\n       <path d=\"M 0 0 \nL -3.5 0 \n\" id=\"mdc434e8b84\" style=\"stroke:#000000;stroke-width:0.8;\"/>\n      </defs>\n      <g>\n       <use style=\"stroke:#000000;stroke-width:0.8;\" x=\"84.3\" xlink:href=\"#mdc434e8b84\" y=\"40.186125\"/>\n      </g>\n     </g>\n     <g id=\"text_12\">\n      <!-- airplane -->\n      <g transform=\"translate(36.5375 43.985344)scale(0.1 -0.1)\">\n       <use xlink:href=\"#DejaVuSans-97\"/>\n       <use x=\"61.279297\" xlink:href=\"#DejaVuSans-105\"/>\n       <use x=\"89.0625\" xlink:href=\"#DejaVuSans-114\"/>\n       <use x=\"130.175781\" xlink:href=\"#DejaVuSans-112\"/>\n       <use x=\"193.652344\" xlink:href=\"#DejaVuSans-108\"/>\n       <use x=\"221.435547\" xlink:href=\"#DejaVuSans-97\"/>\n       <use x=\"282.714844\" xlink:href=\"#DejaVuSans-110\"/>\n       <use x=\"346.09375\" xlink:href=\"#DejaVuSans-101\"/>\n      </g>\n     </g>\n    </g>\n    <g id=\"ytick_2\">\n     <g id=\"line2d_22\">\n      <g>\n       <use style=\"stroke:#000000;stroke-width:0.8;\" x=\"84.3\" xlink:href=\"#mdc434e8b84\" y=\"72.802125\"/>\n      </g>\n     </g>\n     <g id=\"text_13\">\n      <!-- automobile -->\n      <g transform=\"translate(20.878125 76.601344)scale(0.1 -0.1)\">\n       <use xlink:href=\"#DejaVuSans-97\"/>\n       <use x=\"61.279297\" xlink:href=\"#DejaVuSans-117\"/>\n       <use x=\"124.658203\" xlink:href=\"#DejaVuSans-116\"/>\n       <use x=\"163.867188\" xlink:href=\"#DejaVuSans-111\"/>\n       <use x=\"225.048828\" xlink:href=\"#DejaVuSans-109\"/>\n       <use x=\"322.460938\" xlink:href=\"#DejaVuSans-111\"/>\n       <use x=\"383.642578\" xlink:href=\"#DejaVuSans-98\"/>\n       <use x=\"447.119141\" xlink:href=\"#DejaVuSans-105\"/>\n       <use x=\"474.902344\" xlink:href=\"#DejaVuSans-108\"/>\n       <use x=\"502.685547\" xlink:href=\"#DejaVuSans-101\"/>\n      </g>\n     </g>\n    </g>\n    <g id=\"ytick_3\">\n     <g id=\"line2d_23\">\n      <g>\n       <use style=\"stroke:#000000;stroke-width:0.8;\" x=\"84.3\" xlink:href=\"#mdc434e8b84\" y=\"105.418125\"/>\n      </g>\n     </g>\n     <g id=\"text_14\">\n      <!-- bird -->\n      <g transform=\"translate(57.889063 109.217344)scale(0.1 -0.1)\">\n       <use xlink:href=\"#DejaVuSans-98\"/>\n       <use x=\"63.476562\" xlink:href=\"#DejaVuSans-105\"/>\n       <use x=\"91.259766\" xlink:href=\"#DejaVuSans-114\"/>\n       <use x=\"130.623047\" xlink:href=\"#DejaVuSans-100\"/>\n      </g>\n     </g>\n    </g>\n    <g id=\"ytick_4\">\n     <g id=\"line2d_24\">\n      <g>\n       <use style=\"stroke:#000000;stroke-width:0.8;\" x=\"84.3\" xlink:href=\"#mdc434e8b84\" y=\"138.034125\"/>\n      </g>\n     </g>\n     <g id=\"text_15\">\n      <!-- cat -->\n      <g transform=\"translate(61.753125 141.833344)scale(0.1 -0.1)\">\n       <use xlink:href=\"#DejaVuSans-99\"/>\n       <use x=\"54.980469\" xlink:href=\"#DejaVuSans-97\"/>\n       <use x=\"116.259766\" xlink:href=\"#DejaVuSans-116\"/>\n      </g>\n     </g>\n    </g>\n    <g id=\"ytick_5\">\n     <g id=\"line2d_25\">\n      <g>\n       <use style=\"stroke:#000000;stroke-width:0.8;\" x=\"84.3\" xlink:href=\"#mdc434e8b84\" y=\"170.650125\"/>\n      </g>\n     </g>\n     <g id=\"text_16\">\n      <!-- deer -->\n      <g transform=\"translate(54.534375 174.449344)scale(0.1 -0.1)\">\n       <use xlink:href=\"#DejaVuSans-100\"/>\n       <use x=\"63.476562\" xlink:href=\"#DejaVuSans-101\"/>\n       <use x=\"125\" xlink:href=\"#DejaVuSans-101\"/>\n       <use x=\"186.523438\" xlink:href=\"#DejaVuSans-114\"/>\n      </g>\n     </g>\n    </g>\n    <g id=\"ytick_6\">\n     <g id=\"line2d_26\">\n      <g>\n       <use style=\"stroke:#000000;stroke-width:0.8;\" x=\"84.3\" xlink:href=\"#mdc434e8b84\" y=\"203.266125\"/>\n      </g>\n     </g>\n     <g id=\"text_17\">\n      <!-- dog -->\n      <g transform=\"translate(58.484375 207.065344)scale(0.1 -0.1)\">\n       <use xlink:href=\"#DejaVuSans-100\"/>\n       <use x=\"63.476562\" xlink:href=\"#DejaVuSans-111\"/>\n       <use x=\"124.658203\" xlink:href=\"#DejaVuSans-103\"/>\n      </g>\n     </g>\n    </g>\n    <g id=\"ytick_7\">\n     <g id=\"line2d_27\">\n      <g>\n       <use style=\"stroke:#000000;stroke-width:0.8;\" x=\"84.3\" xlink:href=\"#mdc434e8b84\" y=\"235.882125\"/>\n      </g>\n     </g>\n     <g id=\"text_18\">\n      <!-- frog -->\n      <g transform=\"translate(57.426563 239.681344)scale(0.1 -0.1)\">\n       <use xlink:href=\"#DejaVuSans-102\"/>\n       <use x=\"35.205078\" xlink:href=\"#DejaVuSans-114\"/>\n       <use x=\"74.068359\" xlink:href=\"#DejaVuSans-111\"/>\n       <use x=\"135.25\" xlink:href=\"#DejaVuSans-103\"/>\n      </g>\n     </g>\n    </g>\n    <g id=\"ytick_8\">\n     <g id=\"line2d_28\">\n      <g>\n       <use style=\"stroke:#000000;stroke-width:0.8;\" x=\"84.3\" xlink:href=\"#mdc434e8b84\" y=\"268.498125\"/>\n      </g>\n     </g>\n     <g id=\"text_19\">\n      <!-- horse -->\n      <g transform=\"translate(49.370313 272.297344)scale(0.1 -0.1)\">\n       <use xlink:href=\"#DejaVuSans-104\"/>\n       <use x=\"63.378906\" xlink:href=\"#DejaVuSans-111\"/>\n       <use x=\"124.560547\" xlink:href=\"#DejaVuSans-114\"/>\n       <use x=\"165.673828\" xlink:href=\"#DejaVuSans-115\"/>\n       <use x=\"217.773438\" xlink:href=\"#DejaVuSans-101\"/>\n      </g>\n     </g>\n    </g>\n    <g id=\"ytick_9\">\n     <g id=\"line2d_29\">\n      <g>\n       <use style=\"stroke:#000000;stroke-width:0.8;\" x=\"84.3\" xlink:href=\"#mdc434e8b84\" y=\"301.114125\"/>\n      </g>\n     </g>\n     <g id=\"text_20\">\n      <!-- ship -->\n      <g transform=\"translate(56.626563 304.913344)scale(0.1 -0.1)\">\n       <use xlink:href=\"#DejaVuSans-115\"/>\n       <use x=\"52.099609\" xlink:href=\"#DejaVuSans-104\"/>\n       <use x=\"115.478516\" xlink:href=\"#DejaVuSans-105\"/>\n       <use x=\"143.261719\" xlink:href=\"#DejaVuSans-112\"/>\n      </g>\n     </g>\n    </g>\n    <g id=\"ytick_10\">\n     <g id=\"line2d_30\">\n      <g>\n       <use style=\"stroke:#000000;stroke-width:0.8;\" x=\"84.3\" xlink:href=\"#mdc434e8b84\" y=\"333.730125\"/>\n      </g>\n     </g>\n     <g id=\"text_21\">\n      <!-- truck -->\n      <g transform=\"translate(51.642188 337.529344)scale(0.1 -0.1)\">\n       <use xlink:href=\"#DejaVuSans-116\"/>\n       <use x=\"39.208984\" xlink:href=\"#DejaVuSans-114\"/>\n       <use x=\"80.322266\" xlink:href=\"#DejaVuSans-117\"/>\n       <use x=\"143.701172\" xlink:href=\"#DejaVuSans-99\"/>\n       <use x=\"198.681641\" xlink:href=\"#DejaVuSans-107\"/>\n      </g>\n     </g>\n    </g>\n    <g id=\"text_22\">\n     <!-- Actual Category -->\n     <g transform=\"translate(14.798438 227.051875)rotate(-90)scale(0.1 -0.1)\">\n      <defs>\n       <path d=\"M 34.1875 63.1875 \nL 20.796875 26.90625 \nL 47.609375 26.90625 \nz\nM 28.609375 72.90625 \nL 39.796875 72.90625 \nL 67.578125 0 \nL 57.328125 0 \nL 50.6875 18.703125 \nL 17.828125 18.703125 \nL 11.1875 0 \nL 0.78125 0 \nz\n\" id=\"DejaVuSans-65\"/>\n      </defs>\n      <use xlink:href=\"#DejaVuSans-65\"/>\n      <use x=\"66.658203\" xlink:href=\"#DejaVuSans-99\"/>\n      <use x=\"121.638672\" xlink:href=\"#DejaVuSans-116\"/>\n      <use x=\"160.847656\" xlink:href=\"#DejaVuSans-117\"/>\n      <use x=\"224.226562\" xlink:href=\"#DejaVuSans-97\"/>\n      <use x=\"285.505859\" xlink:href=\"#DejaVuSans-108\"/>\n      <use x=\"313.289062\" xlink:href=\"#DejaVuSans-32\"/>\n      <use x=\"345.076172\" xlink:href=\"#DejaVuSans-67\"/>\n      <use x=\"414.900391\" xlink:href=\"#DejaVuSans-97\"/>\n      <use x=\"476.179688\" xlink:href=\"#DejaVuSans-116\"/>\n      <use x=\"515.388672\" xlink:href=\"#DejaVuSans-101\"/>\n      <use x=\"576.912109\" xlink:href=\"#DejaVuSans-103\"/>\n      <use x=\"640.388672\" xlink:href=\"#DejaVuSans-111\"/>\n      <use x=\"701.570312\" xlink:href=\"#DejaVuSans-114\"/>\n      <use x=\"742.683594\" xlink:href=\"#DejaVuSans-121\"/>\n     </g>\n    </g>\n   </g>\n   <g id=\"patch_3\">\n    <path d=\"M 84.3 350.038125 \nL 84.3 23.878125 \n\" style=\"fill:none;stroke:#000000;stroke-linecap:square;stroke-linejoin:miter;stroke-width:0.8;\"/>\n   </g>\n   <g id=\"patch_4\">\n    <path d=\"M 530.7 350.038125 \nL 530.7 23.878125 \n\" style=\"fill:none;stroke:#000000;stroke-linecap:square;stroke-linejoin:miter;stroke-width:0.8;\"/>\n   </g>\n   <g id=\"patch_5\">\n    <path d=\"M 84.3 350.038125 \nL 530.7 350.038125 \n\" style=\"fill:none;stroke:#000000;stroke-linecap:square;stroke-linejoin:miter;stroke-width:0.8;\"/>\n   </g>\n   <g id=\"patch_6\">\n    <path d=\"M 84.3 23.878125 \nL 530.7 23.878125 \n\" style=\"fill:none;stroke:#000000;stroke-linecap:square;stroke-linejoin:miter;stroke-width:0.8;\"/>\n   </g>\n  </g>\n </g>\n <defs>\n  <clipPath id=\"pd095a2c43d\">\n   <rect height=\"326.16\" width=\"446.4\" x=\"84.3\" y=\"23.878125\"/>\n  </clipPath>\n </defs>\n</svg>\n",
      "text/plain": [
       "<Figure size 576x432 with 1 Axes>"
      ]
     },
     "metadata": {
      "needs_background": "light"
     },
     "output_type": "display_data"
    },
    {
     "name": "stdout",
     "output_type": "stream",
     "text": [
      "Label - Category   - Precision - Recall - f1-Score\n",
      " 0 - airplane   - 0.106600 - 0.091000 - 0.098000\n",
      " 1 - automobile - 0.111600 - 0.124000 - 0.117000\n",
      " 2 - bird       - 0.090900 - 0.048000 - 0.063000\n",
      " 3 - cat        - 0.099400 - 0.112000 - 0.105000\n",
      " 4 - deer       - 0.096400 - 0.111000 - 0.103000\n",
      " 5 - dog        - 0.089300 - 0.092000 - 0.091000\n",
      " 6 - frog       - 0.101100 - 0.080000 - 0.089000\n",
      " 7 - horse      - 0.109200 - 0.116000 - 0.113000\n",
      " 8 - ship       - 0.101300 - 0.112000 - 0.106000\n",
      " 9 - truck      - 0.110600 - 0.137000 - 0.122000\n",
      "\n",
      "ConfusionMatrix\n",
      " [[ 91 111  47 115  94 106  85 102 118 131]\n",
      " [ 83 124  48 115 104 113  82 108  99 124]\n",
      " [ 97 113  48 105 131 113  73 106 110 104]\n",
      " [ 66 101  50 112 118 110  86  96 124 137]\n",
      " [104 109  71 112 111 108  68  95 104 118]\n",
      " [ 97  96  47 121 114  92  83 119 108 123]\n",
      " [ 74 115  50 115 127 102  80 114 111 112]\n",
      " [ 84 120  59 102  93 112  83 116 102 129]\n",
      " [ 80 111  45 115 135  90  82 106 112 124]\n",
      " [ 78 111  63 115 125  84  69 100 118 137]]\n"
     ]
    }
   ],
   "source": [
    "metrics(model)"
   ]
  },
  {
   "cell_type": "code",
   "execution_count": null,
   "metadata": {},
   "outputs": [
    {
     "name": "stdout",
     "output_type": "stream",
     "text": [
      "Accuracy of the network on the 10000 test images: 38 %\n"
     ]
    }
   ],
   "source": [
    "model.score(testloader)"
   ]
  },
  {
   "cell_type": "code",
   "execution_count": null,
   "metadata": {},
   "outputs": [
    {
     "data": {
      "text/plain": [
       "'/home/mohammad/Desktop/Desktop/aimedic/project2_MohammadRezaei/cifar10_model'"
      ]
     },
     "execution_count": 18,
     "metadata": {},
     "output_type": "execute_result"
    }
   ],
   "source": [
    "current_path = !pwd\n",
    "filename = \"/cifar10_model\"\n",
    "current_path[0] += filename\n",
    "current_path[0]"
   ]
  },
  {
   "cell_type": "code",
   "execution_count": null,
   "metadata": {},
   "outputs": [],
   "source": [
    "torch.save(model.state_dict(), current_path[0])"
   ]
  },
  {
   "cell_type": "code",
   "execution_count": null,
   "metadata": {},
   "outputs": [],
   "source": []
  }
 ],
 "metadata": {
  "interpreter": {
   "hash": "9fdd795d4f4970461231e8a078e4132ca4d1cd6e8bb9a2b128c86137cc427ec8"
  },
  "kernelspec": {
   "display_name": "Python 3.8.5 64-bit ('base': conda)",
   "name": "python3"
  },
  "language_info": {
   "codemirror_mode": {
    "name": "ipython",
    "version": 3
   },
   "file_extension": ".py",
   "mimetype": "text/x-python",
   "name": "python",
   "nbconvert_exporter": "python",
   "pygments_lexer": "ipython3",
   "version": "3.8.5"
  },
  "orig_nbformat": 4
 },
 "nbformat": 4,
 "nbformat_minor": 2
}
